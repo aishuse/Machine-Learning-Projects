{
  "nbformat": 4,
  "nbformat_minor": 0,
  "metadata": {
    "colab": {
      "provenance": [],
      "include_colab_link": true
    },
    "kernelspec": {
      "name": "python3",
      "display_name": "Python 3"
    },
    "language_info": {
      "name": "python"
    }
  },
  "cells": [
    {
      "cell_type": "markdown",
      "metadata": {
        "id": "view-in-github",
        "colab_type": "text"
      },
      "source": [
        "<a href=\"https://colab.research.google.com/github/aishuse/Machine-Learning-Projects/blob/main/Polynomial_Regression_.ipynb\" target=\"_parent\"><img src=\"https://colab.research.google.com/assets/colab-badge.svg\" alt=\"Open In Colab\"/></a>"
      ]
    },
    {
      "cell_type": "code",
      "source": [
        "##import libraries\n",
        "import numpy as np\n",
        "import pandas as pd\n",
        "import matplotlib.pyplot as plt\n",
        "%matplotlib inline"
      ],
      "metadata": {
        "id": "SZnLi10ImfiE"
      },
      "execution_count": null,
      "outputs": []
    },
    {
      "cell_type": "code",
      "source": [
        "# create dataset\n",
        "\n",
        "X = 6 * np.random.rand(100, 1) - 3\n",
        "y =0.5 * X**2 + 1.5*X + 2 + np.random.randn(100, 1)\n",
        "# quadratic equation used- y=0.5x^2+1.5x+2+outliers\n",
        "plt.scatter(X,y,color='g')\n",
        "plt.xlabel('X dataset')\n",
        "plt.ylabel('Y dataset')"
      ],
      "metadata": {
        "colab": {
          "base_uri": "https://localhost:8080/",
          "height": 466
        },
        "id": "CZznxkBkmYEZ",
        "outputId": "9baf1206-54a2-4525-c5f7-d802ef844d4b"
      },
      "execution_count": null,
      "outputs": [
        {
          "output_type": "execute_result",
          "data": {
            "text/plain": [
              "Text(0, 0.5, 'Y dataset')"
            ]
          },
          "metadata": {},
          "execution_count": 24
        },
        {
          "output_type": "display_data",
          "data": {
            "text/plain": [
              "<Figure size 640x480 with 1 Axes>"
            ],
            "image/png": "[encoded data removed]"
          },
          "metadata": {}
        }
      ]
    },
    {
      "cell_type": "code",
      "source": [
        "X"
      ],
      "metadata": {
        "colab": {
          "base_uri": "https://localhost:8080/"
        },
        "id": "f7tbM7kCmYK-",
        "outputId": "cc5c6194-0728-43eb-8699-8bba71eb8881"
      },
      "execution_count": null,
      "outputs": [
        {
          "output_type": "execute_result",
          "data": {
            "text/plain": [
              "array([[ 1.69577445],\n",
              "       [ 1.58394015],\n",
              "       [-2.16597503],\n",
              "       [-2.46332944],\n",
              "       [ 1.32135942],\n",
              "       [-1.845356  ],\n",
              "       [ 1.42666292],\n",
              "       [-2.742855  ],\n",
              "       [-2.97567809],\n",
              "       [-1.61260962],\n",
              "       [-0.17517535],\n",
              "       [-1.28381634],\n",
              "       [-1.06998079],\n",
              "       [ 2.31071461],\n",
              "       [ 2.74571654],\n",
              "       [-1.49085138],\n",
              "       [ 1.31602986],\n",
              "       [-2.05851111],\n",
              "       [-0.93762412],\n",
              "       [ 0.22572326],\n",
              "       [-2.19815113],\n",
              "       [-0.18738864],\n",
              "       [ 0.75160701],\n",
              "       [-0.64685936],\n",
              "       [ 1.98772272],\n",
              "       [-0.19508965],\n",
              "       [ 0.8556623 ],\n",
              "       [ 1.90484672],\n",
              "       [ 2.92737364],\n",
              "       [-1.01750777],\n",
              "       [ 2.62809493],\n",
              "       [ 0.64270467],\n",
              "       [-1.10262273],\n",
              "       [-2.49973184],\n",
              "       [-1.5834359 ],\n",
              "       [-2.43271984],\n",
              "       [ 0.69037036],\n",
              "       [ 0.79439235],\n",
              "       [ 2.03805516],\n",
              "       [-1.44775506],\n",
              "       [ 1.36427065],\n",
              "       [-2.65861364],\n",
              "       [-2.8774725 ],\n",
              "       [-1.19204582],\n",
              "       [-0.54399255],\n",
              "       [-0.32224167],\n",
              "       [ 1.24199387],\n",
              "       [-2.98044061],\n",
              "       [ 2.28383279],\n",
              "       [-1.57254175],\n",
              "       [-0.5434767 ],\n",
              "       [ 1.70429801],\n",
              "       [ 0.52447135],\n",
              "       [-1.56425842],\n",
              "       [-2.71322305],\n",
              "       [ 2.2934205 ],\n",
              "       [ 2.38936753],\n",
              "       [-2.00861173],\n",
              "       [-0.99406415],\n",
              "       [ 2.34240132],\n",
              "       [-0.98758251],\n",
              "       [-2.72773397],\n",
              "       [ 1.42080817],\n",
              "       [ 0.27306669],\n",
              "       [-0.34727376],\n",
              "       [-1.42557314],\n",
              "       [ 2.93797628],\n",
              "       [-2.63463299],\n",
              "       [ 1.66777661],\n",
              "       [ 2.94121472],\n",
              "       [ 0.30779716],\n",
              "       [-2.00101701],\n",
              "       [ 2.14368992],\n",
              "       [-1.52909335],\n",
              "       [ 1.16708166],\n",
              "       [-2.44313867],\n",
              "       [ 0.3245715 ],\n",
              "       [-2.16207176],\n",
              "       [-1.57553716],\n",
              "       [-0.34733619],\n",
              "       [-1.26727969],\n",
              "       [ 0.39074745],\n",
              "       [ 2.50251049],\n",
              "       [-0.38110553],\n",
              "       [-0.6475465 ],\n",
              "       [ 2.71997951],\n",
              "       [ 0.04861371],\n",
              "       [ 0.69400414],\n",
              "       [-2.18320171],\n",
              "       [-2.14934157],\n",
              "       [ 2.54606542],\n",
              "       [-2.16754659],\n",
              "       [-1.12526418],\n",
              "       [ 1.98069783],\n",
              "       [-2.15857269],\n",
              "       [ 1.87613753],\n",
              "       [-0.654784  ],\n",
              "       [-2.93952893],\n",
              "       [-0.47619194],\n",
              "       [ 0.87234869]])"
            ]
          },
          "metadata": {},
          "execution_count": 25
        }
      ]
    },
    {
      "cell_type": "code",
      "source": [
        "y"
      ],
      "metadata": {
        "colab": {
          "base_uri": "https://localhost:8080/"
        },
        "id": "wXyAwhEBmYOg",
        "outputId": "03748b4b-eb0f-4880-cecc-58da9f90c4db"
      },
      "execution_count": null,
      "outputs": [
        {
          "output_type": "execute_result",
          "data": {
            "text/plain": [
              "array([[ 4.1012056 ],\n",
              "       [ 3.57575303],\n",
              "       [-0.63157376],\n",
              "       [ 1.06228304],\n",
              "       [ 4.77946429],\n",
              "       [ 0.51649465],\n",
              "       [ 5.2201941 ],\n",
              "       [ 1.24329231],\n",
              "       [ 0.96872505],\n",
              "       [ 1.93617418],\n",
              "       [ 2.47618204],\n",
              "       [ 0.26296668],\n",
              "       [ 1.53027248],\n",
              "       [ 9.27804121],\n",
              "       [10.73882173],\n",
              "       [ 1.64300143],\n",
              "       [ 5.21734297],\n",
              "       [ 0.50213426],\n",
              "       [ 1.39874394],\n",
              "       [ 2.06361019],\n",
              "       [ 0.9694085 ],\n",
              "       [ 1.99131813],\n",
              "       [ 4.94424725],\n",
              "       [ 1.65371891],\n",
              "       [ 7.73608419],\n",
              "       [ 0.67182484],\n",
              "       [ 2.05646845],\n",
              "       [ 8.42122297],\n",
              "       [ 9.58219692],\n",
              "       [ 0.60532732],\n",
              "       [ 7.14894412],\n",
              "       [ 2.79091426],\n",
              "       [ 0.40156488],\n",
              "       [ 2.30081717],\n",
              "       [ 1.47102908],\n",
              "       [-0.53080607],\n",
              "       [ 4.24292815],\n",
              "       [ 3.21859522],\n",
              "       [ 7.28145212],\n",
              "       [ 1.59866036],\n",
              "       [ 4.63883648],\n",
              "       [ 2.47913264],\n",
              "       [ 3.34012054],\n",
              "       [ 1.0004542 ],\n",
              "       [ 1.17652759],\n",
              "       [ 2.30328246],\n",
              "       [ 4.271857  ],\n",
              "       [ 2.45792689],\n",
              "       [ 7.52522139],\n",
              "       [ 2.98191763],\n",
              "       [ 0.22393048],\n",
              "       [ 6.87160884],\n",
              "       [ 3.1124949 ],\n",
              "       [ 1.02567188],\n",
              "       [ 3.85014219],\n",
              "       [ 8.20127167],\n",
              "       [ 6.09180612],\n",
              "       [ 0.46226882],\n",
              "       [-0.3662257 ],\n",
              "       [ 6.88589738],\n",
              "       [ 0.6360601 ],\n",
              "       [ 1.74319266],\n",
              "       [ 3.71795045],\n",
              "       [ 3.47741214],\n",
              "       [ 3.38242548],\n",
              "       [ 1.54836491],\n",
              "       [10.90456444],\n",
              "       [ 3.41454131],\n",
              "       [ 6.43964667],\n",
              "       [11.65914091],\n",
              "       [ 2.76598011],\n",
              "       [ 0.36614595],\n",
              "       [ 9.92936292],\n",
              "       [ 1.17370744],\n",
              "       [ 5.06872876],\n",
              "       [ 0.62592692],\n",
              "       [ 2.49780036],\n",
              "       [ 0.83362925],\n",
              "       [ 1.08517457],\n",
              "       [ 1.65834384],\n",
              "       [-0.35353937],\n",
              "       [ 3.35128944],\n",
              "       [ 8.5355145 ],\n",
              "       [ 0.30332742],\n",
              "       [ 1.85418509],\n",
              "       [10.95988218],\n",
              "       [ 2.61814918],\n",
              "       [ 4.07900484],\n",
              "       [ 2.10874681],\n",
              "       [ 1.08849546],\n",
              "       [ 7.9303867 ],\n",
              "       [ 1.04394739],\n",
              "       [ 1.32559849],\n",
              "       [ 7.17843897],\n",
              "       [ 0.75776029],\n",
              "       [ 6.09939655],\n",
              "       [ 3.55526996],\n",
              "       [ 1.3337507 ],\n",
              "       [ 1.68902224],\n",
              "       [ 3.50197842]])"
            ]
          },
          "metadata": {},
          "execution_count": 26
        }
      ]
    },
    {
      "cell_type": "code",
      "source": [
        "\n",
        "from sklearn.model_selection import train_test_split\n",
        "X_train,X_test,y_train,y_test=train_test_split(X,y,test_size=0.2,random_state=42)"
      ],
      "metadata": {
        "id": "bt5BC6gQmYT-"
      },
      "execution_count": null,
      "outputs": []
    },
    {
      "cell_type": "code",
      "source": [
        "## Lets implement Simple Linear Regression\n",
        "from sklearn.linear_model import LinearRegression\n",
        "regression_1=LinearRegression()"
      ],
      "metadata": {
        "id": "tm1HDpENqQ8z"
      },
      "execution_count": null,
      "outputs": []
    },
    {
      "cell_type": "code",
      "source": [
        "regression_1.fit(X_train,y_train)\n"
      ],
      "metadata": {
        "colab": {
          "base_uri": "https://localhost:8080/",
          "height": 80
        },
        "id": "bPXjoAsJqViv",
        "outputId": "1ac6ddf8-7bd3-4e72-fde8-e7265e03ba54"
      },
      "execution_count": null,
      "outputs": [
        {
          "output_type": "execute_result",
          "data": {
            "text/plain": [
              "LinearRegression()"
            ],
            "text/html": [
              "<style>#sk-container-id-2 {\n",
              "  /* Definition of color scheme common for light and dark mode */\n",
              "  --sklearn-color-text: #000;\n",
              "  --sklearn-color-text-muted: #666;\n",
              "  --sklearn-color-line: gray;\n",
              "  /* Definition of color scheme for unfitted estimators */\n",
              "  --sklearn-color-unfitted-level-0: #fff5e6;\n",
              "  --sklearn-color-unfitted-level-1: #f6e4d2;\n",
              "  --sklearn-color-unfitted-level-2: #ffe0b3;\n",
              "  --sklearn-color-unfitted-level-3: chocolate;\n",
              "  /* Definition of color scheme for fitted estimators */\n",
              "  --sklearn-color-fitted-level-0: #f0f8ff;\n",
              "  --sklearn-color-fitted-level-1: #d4ebff;\n",
              "  --sklearn-color-fitted-level-2: #b3dbfd;\n",
              "  --sklearn-color-fitted-level-3: cornflowerblue;\n",
              "\n",
              "  /* Specific color for light theme */\n",
              "  --sklearn-color-text-on-default-background: var(--sg-text-color, var(--theme-code-foreground, var(--jp-content-font-color1, black)));\n",
              "  --sklearn-color-background: var(--sg-background-color, var(--theme-background, var(--jp-layout-color0, white)));\n",
              "  --sklearn-color-border-box: var(--sg-text-color, var(--theme-code-foreground, var(--jp-content-font-color1, black)));\n",
              "  --sklearn-color-icon: #696969;\n",
              "\n",
              "  @media (prefers-color-scheme: dark) {\n",
              "    /* Redefinition of color scheme for dark theme */\n",
              "    --sklearn-color-text-on-default-background: var(--sg-text-color, var(--theme-code-foreground, var(--jp-content-font-color1, white)));\n",
              "    --sklearn-color-background: var(--sg-background-color, var(--theme-background, var(--jp-layout-color0, #111)));\n",
              "    --sklearn-color-border-box: var(--sg-text-color, var(--theme-code-foreground, var(--jp-content-font-color1, white)));\n",
              "    --sklearn-color-icon: #878787;\n",
              "  }\n",
              "}\n",
              "\n",
              "#sk-container-id-2 {\n",
              "  color: var(--sklearn-color-text);\n",
              "}\n",
              "\n",
              "#sk-container-id-2 pre {\n",
              "  padding: 0;\n",
              "}\n",
              "\n",
              "#sk-container-id-2 input.sk-hidden--visually {\n",
              "  border: 0;\n",
              "  clip: rect(1px 1px 1px 1px);\n",
              "  clip: rect(1px, 1px, 1px, 1px);\n",
              "  height: 1px;\n",
              "  margin: -1px;\n",
              "  overflow: hidden;\n",
              "  padding: 0;\n",
              "  position: absolute;\n",
              "  width: 1px;\n",
              "}\n",
              "\n",
              "#sk-container-id-2 div.sk-dashed-wrapped {\n",
              "  border: 1px dashed var(--sklearn-color-line);\n",
              "  margin: 0 0.4em 0.5em 0.4em;\n",
              "  box-sizing: border-box;\n",
              "  padding-bottom: 0.4em;\n",
              "  background-color: var(--sklearn-color-background);\n",
              "}\n",
              "\n",
              "#sk-container-id-2 div.sk-container {\n",
              "  /* jupyter's `normalize.less` sets `[hidden] { display: none; }`\n",
              "     but bootstrap.min.css set `[hidden] { display: none !important; }`\n",
              "     so we also need the `!important` here to be able to override the\n",
              "     default hidden behavior on the sphinx rendered scikit-learn.org.\n",
              "     See: https://github.com/scikit-learn/scikit-learn/issues/21755 */\n",
              "  display: inline-block !important;\n",
              "  position: relative;\n",
              "}\n",
              "\n",
              "#sk-container-id-2 div.sk-text-repr-fallback {\n",
              "  display: none;\n",
              "}\n",
              "\n",
              "div.sk-parallel-item,\n",
              "div.sk-serial,\n",
              "div.sk-item {\n",
              "  /* draw centered vertical line to link estimators */\n",
              "  background-image: linear-gradient(var(--sklearn-color-text-on-default-background), var(--sklearn-color-text-on-default-background));\n",
              "  background-size: 2px 100%;\n",
              "  background-repeat: no-repeat;\n",
              "  background-position: center center;\n",
              "}\n",
              "\n",
              "/* Parallel-specific style estimator block */\n",
              "\n",
              "#sk-container-id-2 div.sk-parallel-item::after {\n",
              "  content: \"\";\n",
              "  width: 100%;\n",
              "  border-bottom: 2px solid var(--sklearn-color-text-on-default-background);\n",
              "  flex-grow: 1;\n",
              "}\n",
              "\n",
              "#sk-container-id-2 div.sk-parallel {\n",
              "  display: flex;\n",
              "  align-items: stretch;\n",
              "  justify-content: center;\n",
              "  background-color: var(--sklearn-color-background);\n",
              "  position: relative;\n",
              "}\n",
              "\n",
              "#sk-container-id-2 div.sk-parallel-item {\n",
              "  display: flex;\n",
              "  flex-direction: column;\n",
              "}\n",
              "\n",
              "#sk-container-id-2 div.sk-parallel-item:first-child::after {\n",
              "  align-self: flex-end;\n",
              "  width: 50%;\n",
              "}\n",
              "\n",
              "#sk-container-id-2 div.sk-parallel-item:last-child::after {\n",
              "  align-self: flex-start;\n",
              "  width: 50%;\n",
              "}\n",
              "\n",
              "#sk-container-id-2 div.sk-parallel-item:only-child::after {\n",
              "  width: 0;\n",
              "}\n",
              "\n",
              "/* Serial-specific style estimator block */\n",
              "\n",
              "#sk-container-id-2 div.sk-serial {\n",
              "  display: flex;\n",
              "  flex-direction: column;\n",
              "  align-items: center;\n",
              "  background-color: var(--sklearn-color-background);\n",
              "  padding-right: 1em;\n",
              "  padding-left: 1em;\n",
              "}\n",
              "\n",
              "\n",
              "/* Toggleable style: style used for estimator/Pipeline/ColumnTransformer box that is\n",
              "clickable and can be expanded/collapsed.\n",
              "- Pipeline and ColumnTransformer use this feature and define the default style\n",
              "- Estimators will overwrite some part of the style using the `sk-estimator` class\n",
              "*/\n",
              "\n",
              "/* Pipeline and ColumnTransformer style (default) */\n",
              "\n",
              "#sk-container-id-2 div.sk-toggleable {\n",
              "  /* Default theme specific background. It is overwritten whether we have a\n",
              "  specific estimator or a Pipeline/ColumnTransformer */\n",
              "  background-color: var(--sklearn-color-background);\n",
              "}\n",
              "\n",
              "/* Toggleable label */\n",
              "#sk-container-id-2 label.sk-toggleable__label {\n",
              "  cursor: pointer;\n",
              "  display: flex;\n",
              "  width: 100%;\n",
              "  margin-bottom: 0;\n",
              "  padding: 0.5em;\n",
              "  box-sizing: border-box;\n",
              "  text-align: center;\n",
              "  align-items: start;\n",
              "  justify-content: space-between;\n",
              "  gap: 0.5em;\n",
              "}\n",
              "\n",
              "#sk-container-id-2 label.sk-toggleable__label .caption {\n",
              "  font-size: 0.6rem;\n",
              "  font-weight: lighter;\n",
              "  color: var(--sklearn-color-text-muted);\n",
              "}\n",
              "\n",
              "#sk-container-id-2 label.sk-toggleable__label-arrow:before {\n",
              "  /* Arrow on the left of the label */\n",
              "  content: \"▸\";\n",
              "  float: left;\n",
              "  margin-right: 0.25em;\n",
              "  color: var(--sklearn-color-icon);\n",
              "}\n",
              "\n",
              "#sk-container-id-2 label.sk-toggleable__label-arrow:hover:before {\n",
              "  color: var(--sklearn-color-text);\n",
              "}\n",
              "\n",
              "/* Toggleable content - dropdown */\n",
              "\n",
              "#sk-container-id-2 div.sk-toggleable__content {\n",
              "  max-height: 0;\n",
              "  max-width: 0;\n",
              "  overflow: hidden;\n",
              "  text-align: left;\n",
              "  /* unfitted */\n",
              "  background-color: var(--sklearn-color-unfitted-level-0);\n",
              "}\n",
              "\n",
              "#sk-container-id-2 div.sk-toggleable__content.fitted {\n",
              "  /* fitted */\n",
              "  background-color: var(--sklearn-color-fitted-level-0);\n",
              "}\n",
              "\n",
              "#sk-container-id-2 div.sk-toggleable__content pre {\n",
              "  margin: 0.2em;\n",
              "  border-radius: 0.25em;\n",
              "  color: var(--sklearn-color-text);\n",
              "  /* unfitted */\n",
              "  background-color: var(--sklearn-color-unfitted-level-0);\n",
              "}\n",
              "\n",
              "#sk-container-id-2 div.sk-toggleable__content.fitted pre {\n",
              "  /* unfitted */\n",
              "  background-color: var(--sklearn-color-fitted-level-0);\n",
              "}\n",
              "\n",
              "#sk-container-id-2 input.sk-toggleable__control:checked~div.sk-toggleable__content {\n",
              "  /* Expand drop-down */\n",
              "  max-height: 200px;\n",
              "  max-width: 100%;\n",
              "  overflow: auto;\n",
              "}\n",
              "\n",
              "#sk-container-id-2 input.sk-toggleable__control:checked~label.sk-toggleable__label-arrow:before {\n",
              "  content: \"▾\";\n",
              "}\n",
              "\n",
              "/* Pipeline/ColumnTransformer-specific style */\n",
              "\n",
              "#sk-container-id-2 div.sk-label input.sk-toggleable__control:checked~label.sk-toggleable__label {\n",
              "  color: var(--sklearn-color-text);\n",
              "  background-color: var(--sklearn-color-unfitted-level-2);\n",
              "}\n",
              "\n",
              "#sk-container-id-2 div.sk-label.fitted input.sk-toggleable__control:checked~label.sk-toggleable__label {\n",
              "  background-color: var(--sklearn-color-fitted-level-2);\n",
              "}\n",
              "\n",
              "/* Estimator-specific style */\n",
              "\n",
              "/* Colorize estimator box */\n",
              "#sk-container-id-2 div.sk-estimator input.sk-toggleable__control:checked~label.sk-toggleable__label {\n",
              "  /* unfitted */\n",
              "  background-color: var(--sklearn-color-unfitted-level-2);\n",
              "}\n",
              "\n",
              "#sk-container-id-2 div.sk-estimator.fitted input.sk-toggleable__control:checked~label.sk-toggleable__label {\n",
              "  /* fitted */\n",
              "  background-color: var(--sklearn-color-fitted-level-2);\n",
              "}\n",
              "\n",
              "#sk-container-id-2 div.sk-label label.sk-toggleable__label,\n",
              "#sk-container-id-2 div.sk-label label {\n",
              "  /* The background is the default theme color */\n",
              "  color: var(--sklearn-color-text-on-default-background);\n",
              "}\n",
              "\n",
              "/* On hover, darken the color of the background */\n",
              "#sk-container-id-2 div.sk-label:hover label.sk-toggleable__label {\n",
              "  color: var(--sklearn-color-text);\n",
              "  background-color: var(--sklearn-color-unfitted-level-2);\n",
              "}\n",
              "\n",
              "/* Label box, darken color on hover, fitted */\n",
              "#sk-container-id-2 div.sk-label.fitted:hover label.sk-toggleable__label.fitted {\n",
              "  color: var(--sklearn-color-text);\n",
              "  background-color: var(--sklearn-color-fitted-level-2);\n",
              "}\n",
              "\n",
              "/* Estimator label */\n",
              "\n",
              "#sk-container-id-2 div.sk-label label {\n",
              "  font-family: monospace;\n",
              "  font-weight: bold;\n",
              "  display: inline-block;\n",
              "  line-height: 1.2em;\n",
              "}\n",
              "\n",
              "#sk-container-id-2 div.sk-label-container {\n",
              "  text-align: center;\n",
              "}\n",
              "\n",
              "/* Estimator-specific */\n",
              "#sk-container-id-2 div.sk-estimator {\n",
              "  font-family: monospace;\n",
              "  border: 1px dotted var(--sklearn-color-border-box);\n",
              "  border-radius: 0.25em;\n",
              "  box-sizing: border-box;\n",
              "  margin-bottom: 0.5em;\n",
              "  /* unfitted */\n",
              "  background-color: var(--sklearn-color-unfitted-level-0);\n",
              "}\n",
              "\n",
              "#sk-container-id-2 div.sk-estimator.fitted {\n",
              "  /* fitted */\n",
              "  background-color: var(--sklearn-color-fitted-level-0);\n",
              "}\n",
              "\n",
              "/* on hover */\n",
              "#sk-container-id-2 div.sk-estimator:hover {\n",
              "  /* unfitted */\n",
              "  background-color: var(--sklearn-color-unfitted-level-2);\n",
              "}\n",
              "\n",
              "#sk-container-id-2 div.sk-estimator.fitted:hover {\n",
              "  /* fitted */\n",
              "  background-color: var(--sklearn-color-fitted-level-2);\n",
              "}\n",
              "\n",
              "/* Specification for estimator info (e.g. \"i\" and \"?\") */\n",
              "\n",
              "/* Common style for \"i\" and \"?\" */\n",
              "\n",
              ".sk-estimator-doc-link,\n",
              "a:link.sk-estimator-doc-link,\n",
              "a:visited.sk-estimator-doc-link {\n",
              "  float: right;\n",
              "  font-size: smaller;\n",
              "  line-height: 1em;\n",
              "  font-family: monospace;\n",
              "  background-color: var(--sklearn-color-background);\n",
              "  border-radius: 1em;\n",
              "  height: 1em;\n",
              "  width: 1em;\n",
              "  text-decoration: none !important;\n",
              "  margin-left: 0.5em;\n",
              "  text-align: center;\n",
              "  /* unfitted */\n",
              "  border: var(--sklearn-color-unfitted-level-1) 1pt solid;\n",
              "  color: var(--sklearn-color-unfitted-level-1);\n",
              "}\n",
              "\n",
              ".sk-estimator-doc-link.fitted,\n",
              "a:link.sk-estimator-doc-link.fitted,\n",
              "a:visited.sk-estimator-doc-link.fitted {\n",
              "  /* fitted */\n",
              "  border: var(--sklearn-color-fitted-level-1) 1pt solid;\n",
              "  color: var(--sklearn-color-fitted-level-1);\n",
              "}\n",
              "\n",
              "/* On hover */\n",
              "div.sk-estimator:hover .sk-estimator-doc-link:hover,\n",
              ".sk-estimator-doc-link:hover,\n",
              "div.sk-label-container:hover .sk-estimator-doc-link:hover,\n",
              ".sk-estimator-doc-link:hover {\n",
              "  /* unfitted */\n",
              "  background-color: var(--sklearn-color-unfitted-level-3);\n",
              "  color: var(--sklearn-color-background);\n",
              "  text-decoration: none;\n",
              "}\n",
              "\n",
              "div.sk-estimator.fitted:hover .sk-estimator-doc-link.fitted:hover,\n",
              ".sk-estimator-doc-link.fitted:hover,\n",
              "div.sk-label-container:hover .sk-estimator-doc-link.fitted:hover,\n",
              ".sk-estimator-doc-link.fitted:hover {\n",
              "  /* fitted */\n",
              "  background-color: var(--sklearn-color-fitted-level-3);\n",
              "  color: var(--sklearn-color-background);\n",
              "  text-decoration: none;\n",
              "}\n",
              "\n",
              "/* Span, style for the box shown on hovering the info icon */\n",
              ".sk-estimator-doc-link span {\n",
              "  display: none;\n",
              "  z-index: 9999;\n",
              "  position: relative;\n",
              "  font-weight: normal;\n",
              "  right: .2ex;\n",
              "  padding: .5ex;\n",
              "  margin: .5ex;\n",
              "  width: min-content;\n",
              "  min-width: 20ex;\n",
              "  max-width: 50ex;\n",
              "  color: var(--sklearn-color-text);\n",
              "  box-shadow: 2pt 2pt 4pt #999;\n",
              "  /* unfitted */\n",
              "  background: var(--sklearn-color-unfitted-level-0);\n",
              "  border: .5pt solid var(--sklearn-color-unfitted-level-3);\n",
              "}\n",
              "\n",
              ".sk-estimator-doc-link.fitted span {\n",
              "  /* fitted */\n",
              "  background: var(--sklearn-color-fitted-level-0);\n",
              "  border: var(--sklearn-color-fitted-level-3);\n",
              "}\n",
              "\n",
              ".sk-estimator-doc-link:hover span {\n",
              "  display: block;\n",
              "}\n",
              "\n",
              "/* \"?\"-specific style due to the `<a>` HTML tag */\n",
              "\n",
              "#sk-container-id-2 a.estimator_doc_link {\n",
              "  float: right;\n",
              "  font-size: 1rem;\n",
              "  line-height: 1em;\n",
              "  font-family: monospace;\n",
              "  background-color: var(--sklearn-color-background);\n",
              "  border-radius: 1rem;\n",
              "  height: 1rem;\n",
              "  width: 1rem;\n",
              "  text-decoration: none;\n",
              "  /* unfitted */\n",
              "  color: var(--sklearn-color-unfitted-level-1);\n",
              "  border: var(--sklearn-color-unfitted-level-1) 1pt solid;\n",
              "}\n",
              "\n",
              "#sk-container-id-2 a.estimator_doc_link.fitted {\n",
              "  /* fitted */\n",
              "  border: var(--sklearn-color-fitted-level-1) 1pt solid;\n",
              "  color: var(--sklearn-color-fitted-level-1);\n",
              "}\n",
              "\n",
              "/* On hover */\n",
              "#sk-container-id-2 a.estimator_doc_link:hover {\n",
              "  /* unfitted */\n",
              "  background-color: var(--sklearn-color-unfitted-level-3);\n",
              "  color: var(--sklearn-color-background);\n",
              "  text-decoration: none;\n",
              "}\n",
              "\n",
              "#sk-container-id-2 a.estimator_doc_link.fitted:hover {\n",
              "  /* fitted */\n",
              "  background-color: var(--sklearn-color-fitted-level-3);\n",
              "}\n",
              "</style><div id=\"sk-container-id-2\" class=\"sk-top-container\"><div class=\"sk-text-repr-fallback\"><pre>LinearRegression()</pre><b>In a Jupyter environment, please rerun this cell to show the HTML representation or trust the notebook. <br />On GitHub, the HTML representation is unable to render, please try loading this page with nbviewer.org.</b></div><div class=\"sk-container\" hidden><div class=\"sk-item\"><div class=\"sk-estimator fitted sk-toggleable\"><input class=\"sk-toggleable__control sk-hidden--visually\" id=\"sk-estimator-id-2\" type=\"checkbox\" checked><label for=\"sk-estimator-id-2\" class=\"sk-toggleable__label fitted sk-toggleable__label-arrow\"><div><div>LinearRegression</div></div><div><a class=\"sk-estimator-doc-link fitted\" rel=\"noreferrer\" target=\"_blank\" href=\"https://scikit-learn.org/1.6/modules/generated/sklearn.linear_model.LinearRegression.html\">?<span>Documentation for LinearRegression</span></a><span class=\"sk-estimator-doc-link fitted\">i<span>Fitted</span></span></div></label><div class=\"sk-toggleable__content fitted\"><pre>LinearRegression()</pre></div> </div></div></div></div>"
            ]
          },
          "metadata": {},
          "execution_count": 29
        }
      ]
    },
    {
      "cell_type": "code",
      "source": [
        "from sklearn.metrics import r2_score\n",
        "score=r2_score(y_test,regression_1.predict(X_test))\n",
        "print(score)"
      ],
      "metadata": {
        "colab": {
          "base_uri": "https://localhost:8080/"
        },
        "id": "o3dwNSEYqVmm",
        "outputId": "1e75ce26-7321-428a-ce1d-baac39c59be0"
      },
      "execution_count": null,
      "outputs": [
        {
          "output_type": "stream",
          "name": "stdout",
          "text": [
            "0.5247817513640046\n"
          ]
        }
      ]
    },
    {
      "cell_type": "code",
      "source": [
        "## Lets visualize this model\n",
        "plt.plot(X_train,regression_1.predict(X_train),color='r')    # best fit line for training data. ie, x and h(x)\n",
        "plt.scatter(X_train,y_train)\n",
        "plt.xlabel(\"X Dataset\")\n",
        "plt.ylabel(\"Y\")"
      ],
      "metadata": {
        "colab": {
          "base_uri": "https://localhost:8080/",
          "height": 466
        },
        "id": "8ULeyGjjqVqJ",
        "outputId": "a4cc43f4-185e-4e52-b5d6-c5eec15d6d53"
      },
      "execution_count": null,
      "outputs": [
        {
          "output_type": "execute_result",
          "data": {
            "text/plain": [
              "Text(0, 0.5, 'Y')"
            ]
          },
          "metadata": {},
          "execution_count": 31
        },
        {
          "output_type": "display_data",
          "data": {
            "text/plain": [
              "<Figure size 640x480 with 1 Axes>"
            ],
            "image/png": "[encoded data removed]"
          },
          "metadata": {}
        }
      ]
    },
    {
      "cell_type": "code",
      "source": [
        "#LEts apply polynomial transformation\n",
        "from sklearn.preprocessing import PolynomialFeatures   # to increase degree"
      ],
      "metadata": {
        "id": "EP8KiIeaqVtI"
      },
      "execution_count": null,
      "outputs": []
    },
    {
      "cell_type": "code",
      "source": [
        "poly=PolynomialFeatures(degree=2,include_bias=True)   # a*1 + a1x1 + a2x2 ............bias is 1 in (a*1)\n",
        "X_train_poly=poly.fit_transform(X_train)\n",
        "X_test_poly=poly.transform(X_test)"
      ],
      "metadata": {
        "id": "4eaXy6PoqVwP"
      },
      "execution_count": null,
      "outputs": []
    },
    {
      "cell_type": "code",
      "source": [
        "X_train_poly\n",
        "# o/p will be like [1,x1,x1^2]"
      ],
      "metadata": {
        "colab": {
          "base_uri": "https://localhost:8080/"
        },
        "id": "NNhLjqXMqs3B",
        "outputId": "ee356345-da14-4dbe-992c-2abd876c6ecc"
      },
      "execution_count": null,
      "outputs": [
        {
          "output_type": "execute_result",
          "data": {
            "text/plain": [
              "array([[ 1.00000000e+00,  2.29342050e+00,  5.25977760e+00],\n",
              "       [ 1.00000000e+00, -2.18320171e+00,  4.76636971e+00],\n",
              "       [ 1.00000000e+00,  8.55662298e-01,  7.32157968e-01],\n",
              "       [ 1.00000000e+00, -2.87747250e+00,  8.27984797e+00],\n",
              "       [ 1.00000000e+00,  2.94121472e+00,  8.65074406e+00],\n",
              "       [ 1.00000000e+00, -1.49085138e+00,  2.22263784e+00],\n",
              "       [ 1.00000000e+00,  1.36427065e+00,  1.86123440e+00],\n",
              "       [ 1.00000000e+00, -6.54784002e-01,  4.28742090e-01],\n",
              "       [ 1.00000000e+00, -1.61260962e+00,  2.60050979e+00],\n",
              "       [ 1.00000000e+00,  2.14368992e+00,  4.59540646e+00],\n",
              "       [ 1.00000000e+00, -1.28381634e+00,  1.64818439e+00],\n",
              "       [ 1.00000000e+00, -2.98044061e+00,  8.88302621e+00],\n",
              "       [ 1.00000000e+00,  2.71997951e+00,  7.39828851e+00],\n",
              "       [ 1.00000000e+00,  2.92737364e+00,  8.56951641e+00],\n",
              "       [ 1.00000000e+00,  1.98069783e+00,  3.92316390e+00],\n",
              "       [ 1.00000000e+00, -1.84535600e+00,  3.40533876e+00],\n",
              "       [ 1.00000000e+00,  2.93797628e+00,  8.63170462e+00],\n",
              "       [ 1.00000000e+00, -1.42557314e+00,  2.03225876e+00],\n",
              "       [ 1.00000000e+00, -2.43271984e+00,  5.91812582e+00],\n",
              "       [ 1.00000000e+00,  1.31602986e+00,  1.73193459e+00],\n",
              "       [ 1.00000000e+00, -1.57254175e+00,  2.47288755e+00],\n",
              "       [ 1.00000000e+00, -1.58343590e+00,  2.50726923e+00],\n",
              "       [ 1.00000000e+00, -2.74285500e+00,  7.52325353e+00],\n",
              "       [ 1.00000000e+00,  1.87613753e+00,  3.51989205e+00],\n",
              "       [ 1.00000000e+00,  1.90484672e+00,  3.62844101e+00],\n",
              "       [ 1.00000000e+00,  2.25723258e-01,  5.09509893e-02],\n",
              "       [ 1.00000000e+00,  3.90747451e-01,  1.52683571e-01],\n",
              "       [ 1.00000000e+00, -1.95089653e-01,  3.80599725e-02],\n",
              "       [ 1.00000000e+00,  1.42080817e+00,  2.01869585e+00],\n",
              "       [ 1.00000000e+00,  2.31071461e+00,  5.33940200e+00],\n",
              "       [ 1.00000000e+00,  1.98772272e+00,  3.95104162e+00],\n",
              "       [ 1.00000000e+00, -2.46332944e+00,  6.06799191e+00],\n",
              "       [ 1.00000000e+00, -2.05851111e+00,  4.23746798e+00],\n",
              "       [ 1.00000000e+00,  2.03805516e+00,  4.15366882e+00],\n",
              "       [ 1.00000000e+00, -2.97567809e+00,  8.85466007e+00],\n",
              "       [ 1.00000000e+00, -1.57553716e+00,  2.48231735e+00],\n",
              "       [ 1.00000000e+00,  1.42666292e+00,  2.03536708e+00],\n",
              "       [ 1.00000000e+00, -3.47273759e-01,  1.20599064e-01],\n",
              "       [ 1.00000000e+00,  6.90370362e-01,  4.76611237e-01],\n",
              "       [ 1.00000000e+00, -2.14934157e+00,  4.61966919e+00],\n",
              "       [ 1.00000000e+00,  2.38936753e+00,  5.70907717e+00],\n",
              "       [ 1.00000000e+00,  8.72348689e-01,  7.60992235e-01],\n",
              "       [ 1.00000000e+00, -2.71322305e+00,  7.36157932e+00],\n",
              "       [ 1.00000000e+00, -1.19204582e+00,  1.42097324e+00],\n",
              "       [ 1.00000000e+00, -5.43476703e-01,  2.95366926e-01],\n",
              "       [ 1.00000000e+00, -2.63463299e+00,  6.94129099e+00],\n",
              "       [ 1.00000000e+00,  1.24199387e+00,  1.54254877e+00],\n",
              "       [ 1.00000000e+00,  1.66777661e+00,  2.78147881e+00],\n",
              "       [ 1.00000000e+00, -2.72773397e+00,  7.44053264e+00],\n",
              "       [ 1.00000000e+00, -2.93952893e+00,  8.64083032e+00],\n",
              "       [ 1.00000000e+00, -3.47336192e-01,  1.20642431e-01],\n",
              "       [ 1.00000000e+00, -2.65861364e+00,  7.06822647e+00],\n",
              "       [ 1.00000000e+00, -9.94064146e-01,  9.88163526e-01],\n",
              "       [ 1.00000000e+00,  2.28383279e+00,  5.21589222e+00],\n",
              "       [ 1.00000000e+00, -4.76191944e-01,  2.26758767e-01],\n",
              "       [ 1.00000000e+00, -2.00861173e+00,  4.03452108e+00],\n",
              "       [ 1.00000000e+00, -2.44313867e+00,  5.96892658e+00],\n",
              "       [ 1.00000000e+00, -1.10262273e+00,  1.21577688e+00],\n",
              "       [ 1.00000000e+00, -2.15857269e+00,  4.65943605e+00],\n",
              "       [ 1.00000000e+00,  2.34240132e+00,  5.48684395e+00],\n",
              "       [ 1.00000000e+00,  2.73066689e-01,  7.45654165e-02],\n",
              "       [ 1.00000000e+00, -6.47546498e-01,  4.19316467e-01],\n",
              "       [ 1.00000000e+00,  7.94392346e-01,  6.31059200e-01],\n",
              "       [ 1.00000000e+00, -1.01750777e+00,  1.03532206e+00],\n",
              "       [ 1.00000000e+00,  1.58394015e+00,  2.50886641e+00],\n",
              "       [ 1.00000000e+00,  5.24471349e-01,  2.75070196e-01],\n",
              "       [ 1.00000000e+00, -1.87388645e-01,  3.51145042e-02],\n",
              "       [ 1.00000000e+00, -2.16597503e+00,  4.69144784e+00],\n",
              "       [ 1.00000000e+00, -6.46859360e-01,  4.18427032e-01],\n",
              "       [ 1.00000000e+00,  6.94004137e-01,  4.81641742e-01],\n",
              "       [ 1.00000000e+00, -2.16754659e+00,  4.69825820e+00],\n",
              "       [ 1.00000000e+00,  1.16708166e+00,  1.36207961e+00],\n",
              "       [ 1.00000000e+00,  4.86137067e-02,  2.36329247e-03],\n",
              "       [ 1.00000000e+00,  2.50251049e+00,  6.26255876e+00],\n",
              "       [ 1.00000000e+00, -2.19815113e+00,  4.83186837e+00],\n",
              "       [ 1.00000000e+00, -9.87582509e-01,  9.75319212e-01],\n",
              "       [ 1.00000000e+00, -2.00101701e+00,  4.00406909e+00],\n",
              "       [ 1.00000000e+00,  2.74571654e+00,  7.53895933e+00],\n",
              "       [ 1.00000000e+00, -1.12526418e+00,  1.26621948e+00],\n",
              "       [ 1.00000000e+00,  1.70429801e+00,  2.90463169e+00]])"
            ]
          },
          "metadata": {},
          "execution_count": 34
        }
      ]
    },
    {
      "cell_type": "code",
      "source": [
        "X_test_poly\n"
      ],
      "metadata": {
        "colab": {
          "base_uri": "https://localhost:8080/"
        },
        "id": "LMF0_sZ8qs6R",
        "outputId": "eb1d87ec-847d-490d-c61d-fe567d1b6871"
      },
      "execution_count": null,
      "outputs": [
        {
          "output_type": "execute_result",
          "data": {
            "text/plain": [
              "array([[ 1.        , -0.38110553,  0.14524143],\n",
              "       [ 1.        , -1.56425842,  2.44690439],\n",
              "       [ 1.        ,  0.30779716,  0.09473909],\n",
              "       [ 1.        , -0.32224167,  0.1038397 ],\n",
              "       [ 1.        , -0.54399255,  0.2959279 ],\n",
              "       [ 1.        , -1.44775506,  2.09599473],\n",
              "       [ 1.        ,  0.75160701,  0.5649131 ],\n",
              "       [ 1.        , -1.26727969,  1.60599781],\n",
              "       [ 1.        , -0.17517535,  0.0306864 ],\n",
              "       [ 1.        ,  1.69577445,  2.875651  ],\n",
              "       [ 1.        , -0.93762412,  0.87913898],\n",
              "       [ 1.        ,  2.62809493,  6.90688297],\n",
              "       [ 1.        , -1.52909335,  2.33812647],\n",
              "       [ 1.        , -2.49973184,  6.24865928],\n",
              "       [ 1.        ,  2.54606542,  6.48244913],\n",
              "       [ 1.        ,  1.32135942,  1.7459907 ],\n",
              "       [ 1.        ,  0.3245715 ,  0.10534666],\n",
              "       [ 1.        , -2.16207176,  4.67455429],\n",
              "       [ 1.        , -1.06998079,  1.1448589 ],\n",
              "       [ 1.        ,  0.64270467,  0.41306929]])"
            ]
          },
          "metadata": {},
          "execution_count": 35
        }
      ]
    },
    {
      "cell_type": "code",
      "source": [
        "from sklearn.metrics import r2_score\n",
        "regression = LinearRegression()\n",
        "regression.fit(X_train_poly, y_train)\n",
        "y_pred = regression.predict(X_test_poly)\n",
        "score=r2_score(y_test,y_pred)\n",
        "print(score)"
      ],
      "metadata": {
        "colab": {
          "base_uri": "https://localhost:8080/"
        },
        "id": "zqD_BGSHqs8i",
        "outputId": "57c184ca-21bb-459d-b3a4-c142c1ccd570"
      },
      "execution_count": null,
      "outputs": [
        {
          "output_type": "stream",
          "name": "stdout",
          "text": [
            "0.7845175796782731\n"
          ]
        }
      ]
    },
    {
      "cell_type": "code",
      "source": [
        "print(regression.coef_)  # o/p shows 3 features\n",
        "\n",
        "print(regression.intercept_)\n"
      ],
      "metadata": {
        "colab": {
          "base_uri": "https://localhost:8080/"
        },
        "id": "EMArCRn4qs_e",
        "outputId": "7ccd3496-0079-4639-adf8-048fce5bd2e0"
      },
      "execution_count": null,
      "outputs": [
        {
          "output_type": "stream",
          "name": "stdout",
          "text": [
            "[[0.         1.49718    0.49783614]]\n",
            "[2.11962096]\n"
          ]
        }
      ]
    },
    {
      "cell_type": "code",
      "source": [
        "plt.scatter(X_train,regression.predict(X_train_poly))\n",
        "plt.scatter(X_train,y_train)\n",
        "# plt.plot(X_train, regression.predict(X_train_poly))  # plot the predicted values from the polynomial regression model against the training data\n"
      ],
      "metadata": {
        "colab": {
          "base_uri": "https://localhost:8080/",
          "height": 447
        },
        "id": "K-K5JoDSqtCp",
        "outputId": "2a40837c-9859-40d9-ac0f-c76f517618b8"
      },
      "execution_count": null,
      "outputs": [
        {
          "output_type": "execute_result",
          "data": {
            "text/plain": [
              "<matplotlib.collections.PathCollection at 0x7f500d1753f0>"
            ]
          },
          "metadata": {},
          "execution_count": 50
        },
        {
          "output_type": "display_data",
          "data": {
            "text/plain": [
              "<Figure size 640x480 with 1 Axes>"
            ],
            "image/png": "[encoded data removed]"
          },
          "metadata": {}
        }
      ]
    },
    {
      "cell_type": "code",
      "source": [
        "poly=PolynomialFeatures(degree=3,include_bias=True)\n",
        "X_train_poly=poly.fit_transform(X_train)\n",
        "X_test_poly=poly.transform(X_test)"
      ],
      "metadata": {
        "id": "pXSz8r5EqtFW"
      },
      "execution_count": null,
      "outputs": []
    },
    {
      "cell_type": "code",
      "source": [
        "X_train_poly\n",
        "# o/p shows 4 feature"
      ],
      "metadata": {
        "id": "p0zO56LkrKAO"
      },
      "execution_count": null,
      "outputs": []
    },
    {
      "cell_type": "code",
      "source": [
        "from sklearn.metrics import r2_score\n",
        "regression = LinearRegression()\n",
        "regression.fit(X_train_poly, y_train)\n",
        "y_pred = regression.predict(X_test_poly)\n",
        "score=r2_score(y_test,y_pred)\n",
        "print(score)"
      ],
      "metadata": {
        "id": "UsDw3_GmrKD-"
      },
      "execution_count": null,
      "outputs": []
    },
    {
      "cell_type": "code",
      "source": [
        "#3 Prediction of new data set\n",
        "X_new = np.linspace(-3, 3, 200).reshape(200, 1)\n",
        "X_new_poly = poly.transform(X_new)\n",
        "X_new_poly"
      ],
      "metadata": {
        "id": "7xvl2ORFrKHG"
      },
      "execution_count": null,
      "outputs": []
    },
    {
      "cell_type": "code",
      "source": [
        "y_new = regression.predict(X_new_poly)\n",
        "plt.plot(X_new, y_new, \"r-\", linewidth=2, label=\" New Predictions\")\n",
        "plt.plot(X_train, y_train, \"b.\",label='Training points')\n",
        "plt.plot(X_test, y_test, \"g.\",label='Testing points')\n",
        "plt.xlabel(\"X\")\n",
        "plt.ylabel(\"y\")\n",
        "plt.legend()\n",
        "plt.show()"
      ],
      "metadata": {
        "id": "INDLmKXtrKJ_"
      },
      "execution_count": null,
      "outputs": []
    },
    {
      "cell_type": "code",
      "source": [],
      "metadata": {
        "id": "mF6_rUwJrKM_"
      },
      "execution_count": null,
      "outputs": []
    },
    {
      "cell_type": "code",
      "source": [],
      "metadata": {
        "id": "0ln7ZXQUrKPD"
      },
      "execution_count": null,
      "outputs": []
    }
  ]
}